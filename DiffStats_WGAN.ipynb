{
  "nbformat": 4,
  "nbformat_minor": 0,
  "metadata": {
    "colab": {
      "provenance": [],
      "collapsed_sections": [
        "I0UIDtEZ2oyY",
        "3xZn-O5q9zXJ"
      ],
      "gpuType": "T4",
      "authorship_tag": "ABX9TyPjILpBWxZGU0JbCw+qjFVv",
      "include_colab_link": true
    },
    "kernelspec": {
      "name": "python3",
      "display_name": "Python 3"
    },
    "language_info": {
      "name": "python"
    },
    "accelerator": "GPU"
  },
  "cells": [
    {
      "cell_type": "markdown",
      "metadata": {
        "id": "view-in-github",
        "colab_type": "text"
      },
      "source": [
        "<a href=\"https://colab.research.google.com/github/SampadSikder/DP-Protocols/blob/main/DiffStats_WGAN.ipynb\" target=\"_parent\"><img src=\"https://colab.research.google.com/assets/colab-badge.svg\" alt=\"Open In Colab\"/></a>"
      ]
    },
    {
      "cell_type": "markdown",
      "source": [
        "## Parameter Loading"
      ],
      "metadata": {
        "id": "_3W-jdtcPemm"
      }
    },
    {
      "cell_type": "code",
      "execution_count": 1,
      "metadata": {
        "id": "7DB4eQ7Sz_sh"
      },
      "outputs": [],
      "source": [
        "import argparse\n",
        "import math\n",
        "import matplotlib.pyplot as plt"
      ]
    },
    {
      "cell_type": "code",
      "source": [
        "import random\n",
        "from multiprocessing import Pool\n",
        "import numpy as np\n",
        "import xxhash\n",
        "import pandas as pd\n",
        "from sklearn.preprocessing import LabelEncoder\n",
        "from dataclasses import dataclass\n",
        "from typing import Literal, Dict, Any, List\n",
        "from scipy.special import erfcinv\n",
        "\n"
      ],
      "metadata": {
        "id": "aJpslSH90SB4"
      },
      "execution_count": 2,
      "outputs": []
    },
    {
      "cell_type": "code",
      "source": [
        "domain = 0\n",
        "epsilon = 0.0\n",
        "n = 0\n",
        "g = 0\n",
        "X = []\n",
        "Y = []\n",
        "Y_Nattack = []\n",
        "sample = []\n",
        "REAL_DIST = []\n",
        "ESTIMATE_DIST = []\n",
        "User_Seed = []\n",
        "User_Seed_Nattack = []\n",
        "p = 0.0\n",
        "q = 0.0\n",
        "Gain = 0\n",
        "splits = 0\n",
        "h_ao = 0\n",
        "global Gain, ESTIMATE_DIST, Y"
      ],
      "metadata": {
        "id": "Noyxfcj30Si3"
      },
      "execution_count": 3,
      "outputs": []
    },
    {
      "cell_type": "code",
      "source": [
        "from google.colab import drive\n",
        "drive.mount('/content/drive')"
      ],
      "metadata": {
        "colab": {
          "base_uri": "https://localhost:8080/"
        },
        "id": "qWqp44EX0X62",
        "outputId": "88ac9981-f5aa-4d84-d988-06cc9b13bc97"
      },
      "execution_count": 4,
      "outputs": [
        {
          "output_type": "stream",
          "name": "stdout",
          "text": [
            "Mounted at /content/drive\n"
          ]
        }
      ]
    },
    {
      "cell_type": "code",
      "source": [
        "global ESTIMATE_DIST, REAL_DIST, n, p, q, epsilon, domain, User_Seed, User_Seed_Nattack, target_set_size, vswhat, g, splits, h_ao"
      ],
      "metadata": {
        "id": "AG-6ghDX2bWS"
      },
      "execution_count": 5,
      "outputs": []
    },
    {
      "cell_type": "code",
      "source": [
        "epsilon = 0.7\n",
        "splits = 6\n",
        "h_ao = 1 # for adaptive attack\n",
        "g = int(round(math.exp(epsilon))) + 1\n",
        "dataset = 'emoji'\n",
        "ratio = 0.4\n",
        "target_set_size = 20"
      ],
      "metadata": {
        "id": "wHw04HFM3Dtj"
      },
      "execution_count": 6,
      "outputs": []
    },
    {
      "cell_type": "code",
      "source": [
        "if dataset == 'zipf':\n",
        "        #n = 100000\n",
        "        n = 30000\n",
        "        domain = 1024\n",
        "if dataset == 'emoji':\n",
        "        #n = 218477\n",
        "        n = 70000\n",
        "        domain = 1496\n",
        "if dataset == 'fire':\n",
        "        #n = 723090\n",
        "        n = 30000\n",
        "        domain = 296"
      ],
      "metadata": {
        "id": "OgT595Ri3zHl"
      },
      "execution_count": 7,
      "outputs": []
    },
    {
      "cell_type": "code",
      "source": [
        "User_Seed = np.zeros(n)\n",
        "User_Seed_Nattack = np.zeros(n)\n",
        "REAL_DIST = np.zeros(domain)\n",
        "#REAL_DIST = Counter()\n",
        "ESTIMATE_DIST = np.zeros(domain)"
      ],
      "metadata": {
        "id": "hguh4EAX39kw"
      },
      "execution_count": 8,
      "outputs": []
    },
    {
      "cell_type": "code",
      "source": [
        "p = math.exp(epsilon) / (math.exp(epsilon) + g - 1)\n",
        "q = 1.0 / (math.exp(epsilon) + g - 1)\n",
        "\n",
        "print('n: ', n)\n",
        "print('ratio: ', ratio)\n",
        "print('target_set_size: ', target_set_size)\n",
        "print('e: ', epsilon)\n",
        "print('split: ', splits)\n",
        "print('h_ao: ', h_ao)"
      ],
      "metadata": {
        "colab": {
          "base_uri": "https://localhost:8080/"
        },
        "id": "XEEz1jom4AbU",
        "outputId": "8531688c-93e5-4963-8b9e-f50c17c75712"
      },
      "execution_count": 9,
      "outputs": [
        {
          "output_type": "stream",
          "name": "stdout",
          "text": [
            "n:  70000\n",
            "ratio:  0.4\n",
            "target_set_size:  20\n",
            "e:  0.7\n",
            "split:  6\n",
            "h_ao:  1\n"
          ]
        }
      ]
    },
    {
      "cell_type": "markdown",
      "source": [
        "## Load Dataset"
      ],
      "metadata": {
        "id": "I0UIDtEZ2oyY"
      }
    },
    {
      "cell_type": "code",
      "source": [
        "def generate_zipf_dist():\n",
        "  global REAL_DIST, domain, sample, X\n",
        "  X = np.load('/content/drive/MyDrive/Purdue Work/Datasets/zipf.npy')\n",
        "  for i in range(n):\n",
        "    REAL_DIST[X[i]] += 1\n",
        "\n"
      ],
      "metadata": {
        "id": "aIRc38QH2fni"
      },
      "execution_count": 24,
      "outputs": []
    },
    {
      "cell_type": "code",
      "source": [
        "def generate_emoji_dist():\n",
        "  global X\n",
        "  data = np.load('/content/drive/MyDrive/Purdue Work/Datasets/emoji.npy')\n",
        "  X = np.copy(data)\n",
        "  for i in range(n):\n",
        "      REAL_DIST[data[i]] += 1"
      ],
      "metadata": {
        "id": "nBXm_niE2r4y"
      },
      "execution_count": 25,
      "outputs": []
    },
    {
      "cell_type": "code",
      "source": [
        "def generate_fire_dist():\n",
        "  global X\n",
        "  values = pd.read_csv(\"/content/drive/MyDrive/Purdue Work/Datasets/fire.csv\")[\"Unit_ID\"]\n",
        "  #print(np.array(values))\n",
        "  lf = LabelEncoder().fit(values)\n",
        "  data = lf.transform(values)\n",
        "  X = np.copy(data)\n",
        "  for i in range(n):\n",
        "      REAL_DIST[data[i]] += 1"
      ],
      "metadata": {
        "id": "-Y13ve2T5rc_"
      },
      "execution_count": 26,
      "outputs": []
    },
    {
      "cell_type": "code",
      "source": [
        "if dataset == 'zipf':\n",
        "    generate_zipf_dist()\n",
        "if dataset == 'emoji':\n",
        "    generate_emoji_dist()\n",
        "if dataset == 'fire':\n",
        "    generate_fire_dist()"
      ],
      "metadata": {
        "id": "awYEvhW-6r2z"
      },
      "execution_count": 27,
      "outputs": []
    },
    {
      "cell_type": "code",
      "source": [
        "plt.figure(figsize=(12, 6))\n",
        "plt.hist(REAL_DIST, bins=range(101), alpha=0.5, label='REAL_DIST')\n",
        "plt.xlabel('Value')\n",
        "plt.ylabel('Frequency')\n",
        "plt.title('Distribution of REAL_DIST (Beginning Part)')\n",
        "plt.legend()\n",
        "plt.xlim(0, 100)\n",
        "plt.show()"
      ],
      "metadata": {
        "colab": {
          "base_uri": "https://localhost:8080/",
          "height": 0
        },
        "id": "HLceFOy04QOR",
        "outputId": "fe9d7f33-618d-45aa-9785-d62928efabd5"
      },
      "execution_count": 28,
      "outputs": [
        {
          "output_type": "display_data",
          "data": {
            "text/plain": [
              "<Figure size 1200x600 with 1 Axes>"
            ],
            "image/png": "[encoded data removed]"
          },
          "metadata": {}
        }
      ]
    },
    {
      "cell_type": "code",
      "source": [],
      "metadata": {
        "id": "YdBYWgvne3Ct"
      },
      "execution_count": 28,
      "outputs": []
    },
    {
      "cell_type": "markdown",
      "source": [
        "## Protocols"
      ],
      "metadata": {
        "id": "U75_mDG59wHR"
      }
    },
    {
      "cell_type": "code",
      "source": [
        "from tqdm import tqdm\n",
        "import random\n",
        "# from mlxtend.preprocessing import TransactionEncoder\n",
        "# from mlxtend.frequent_patterns import apriori, association_rules\n",
        "import pandas as pd\n",
        "from functools import partial\n",
        "from multiprocessing import Pool\n",
        "import math\n",
        "import scipy.stats as stats\n",
        "from scipy.stats import binom, chisquare\n"
      ],
      "metadata": {
        "id": "6jKLohuc9-fV"
      },
      "execution_count": 20,
      "outputs": []
    },
    {
      "cell_type": "code",
      "source": [
        "# APA Attack\n",
        "def construct_omega(e, d, perturb_method):\n",
        "    p_binomial = None\n",
        "    if perturb_method == 'OUE':\n",
        "        p = 1 / 2\n",
        "        q = 1 / (math.exp(e) + 1)\n",
        "        expected_ones = p + (d - 1) * q\n",
        "        p_binomial = (1 / d) * (p + (d - 1) * q)\n",
        "    elif perturb_method in ('OLH_User', 'OLH_Server'):\n",
        "        g = int(round(math.exp(e))) + 1\n",
        "        p = math.exp(e) / (math.exp(e) + g - 1)\n",
        "        q = 1 / g\n",
        "        expected_ones = p + (d - 1) * q\n",
        "        p_binomial = (1 / d) * (p + (d - 1) * q)\n",
        "    elif perturb_method in ('HST_Server', 'HST_User'):\n",
        "        p_binomial = 1 / 2\n",
        "        p = q = 1 / 2\n",
        "        expected_ones = d * p_binomial\n",
        "    k_values = [i for i in range(d)]\n",
        "    theoretical_pdf = binom.pmf(k_values, d, p_binomial)\n",
        "    theoretical_pdf /= theoretical_pdf.sum()\n",
        "    return theoretical_pdf"
      ],
      "metadata": {
        "id": "5IsbMtgIA2ZO"
      },
      "execution_count": 21,
      "outputs": []
    },
    {
      "cell_type": "code",
      "source": [
        "# Example of theoretical pdf from construct_omega\n",
        "example_pdf = construct_omega(epsilon, domain, 'OLH_User')\n",
        "\n",
        "print(f'Example of theoretical PDF from construct_omega (first 10 values):')\n",
        "print(example_pdf[:10])\n",
        "print(f'Length of the PDF: {len(example_pdf)}')"
      ],
      "metadata": {
        "colab": {
          "base_uri": "https://localhost:8080/"
        },
        "id": "RGQNO5NIfcq7",
        "outputId": "94ef6a57-71a2-4287-c6f6-8098a8bc442d"
      },
      "execution_count": 22,
      "outputs": [
        {
          "output_type": "stream",
          "name": "stdout",
          "text": [
            "Example of theoretical PDF from construct_omega (first 10 values):\n",
            "[2.86931034e-264 2.14733137e-261 8.02971659e-259 2.00041228e-256\n",
            " 3.73516060e-254 5.57568269e-252 6.93129518e-250 7.38061539e-248\n",
            " 6.87206466e-246 5.68378460e-244]\n",
            "Length of the PDF: 1496\n"
          ]
        }
      ]
    },
    {
      "cell_type": "code",
      "source": [
        "def perturb_ideal(target_set = None, ratio = 0, e = 0):\n",
        "    global Y, Gain, User_Seed\n",
        "    Y = np.zeros(n)\n",
        "    #random.shuffle(X)\n",
        "    for i in range(n):\n",
        "        if i < n * (1 - ratio):\n",
        "            v = X[i]\n",
        "            # intdigest -> get integer value from xxhash(Output of xxhash is a hash item)\n",
        "            x = (xxhash.xxh3_64(str(v), seed=i).intdigest() % g)\n",
        "            y = x\n",
        "            p_sample = np.random.random_sample()\n",
        "\n",
        "            if p_sample > p - q:\n",
        "                # perturb\n",
        "                y = np.random.randint(0, g)\n",
        "            Y[i] = y\n",
        "            User_Seed[i] = i\n",
        "        else:\n",
        "            projection_total = len(target_set)\n",
        "            max_seed = i\n",
        "            v = random.choice(target_set)\n",
        "            x = (xxhash.xxh3_64(str(v), seed=i).intdigest() % g)\n",
        "            y = x\n",
        "            p_sample = np.random.random_sample()\n",
        "            if p_sample > p - q:\n",
        "                # perturb\n",
        "                y = np.random.randint(0, g)\n",
        "            Y[i] = y\n",
        "            User_Seed[i] = i\n",
        "    return User_Seed"
      ],
      "metadata": {
        "id": "x3AxgMy8AAXV"
      },
      "execution_count": 23,
      "outputs": []
    },
    {
      "cell_type": "markdown",
      "source": [
        "# Estimates"
      ],
      "metadata": {
        "id": "QY45xLE44QPE"
      }
    },
    {
      "cell_type": "markdown",
      "source": [
        "## Default Estimates"
      ],
      "metadata": {
        "id": "vrclr2fs7VQ0"
      }
    },
    {
      "cell_type": "code",
      "source": [
        "def z_bonferroni(delta_over_d: float) -> float:\n",
        "    return float((2.0 ** 0.5) * erfcinv(2.0 * delta_over_d))"
      ],
      "metadata": {
        "id": "Eaybm6OD4bUe"
      },
      "execution_count": 32,
      "outputs": []
    },
    {
      "cell_type": "code",
      "source": [
        "Mechanism = Literal[\"OUE\", \"OLH\", \"HST_User\", \"HST_Server\"]\n",
        "\n",
        "def construct_omega(e: float, d: int, perturb_method: str) -> np.ndarray:\n",
        "    if perturb_method == 'OUE':\n",
        "        p = 1/2\n",
        "        q = 1/(math.exp(e) + 1)\n",
        "        p_bin = (1/d) * (p + (d - 1) * q)\n",
        "    elif perturb_method in ('OLH_User', 'OLH_Server', 'OLH'):\n",
        "        g = int(round(math.exp(e))) + 1\n",
        "        p = math.exp(e) / (math.exp(e) + g - 1)\n",
        "        q = 1 / (math.exp(e) + g - 1)\n",
        "        p_bin = (1/d) * (p + (d - 1) * q)\n",
        "    elif perturb_method in ('HST_Server', 'HST_User'):\n",
        "        p_bin = 1/2\n",
        "    else:\n",
        "        raise ValueError(\"Unknown perturb_method\")\n",
        "    k = np.arange(d)\n",
        "    pdf = binom.pmf(k, d, p_bin)\n",
        "    pdf /= pdf.sum()\n",
        "    return pdf\n",
        "\n",
        "def _oq_params_oue(epsilon: float):\n",
        "    p = 0.5\n",
        "    q = 1 / (math.exp(epsilon) + 1)\n",
        "    return p, q\n",
        "\n",
        "def _olh_params(epsilon: float, n: int):\n",
        "    g = int(round(math.exp(epsilon))) + 1\n",
        "    denom = math.exp(epsilon) + g - 1\n",
        "    p = math.exp(epsilon) / denom\n",
        "    q = 1.0 / denom\n",
        "    denom_pg = (p * g - 1.0)\n",
        "    if abs(denom_pg) < 1e-12:\n",
        "        a = float('inf')\n",
        "        b_n = float('inf')\n",
        "    else:\n",
        "        a = g / denom_pg\n",
        "        b_n = n / denom_pg\n",
        "    return g, p, q, a, b_n"
      ],
      "metadata": {
        "id": "GNvkEbLn_UG-"
      },
      "execution_count": 33,
      "outputs": []
    },
    {
      "cell_type": "code",
      "source": [
        "def build_normal_lists_from_mechanism_stochastic(\n",
        "    epsilon: float, d: int, n: int, mechanism: str = \"OUE\", seed: int = 0\n",
        "):\n",
        "    rng = np.random.default_rng(seed)\n",
        "\n",
        "    if mechanism == \"OUE\":\n",
        "        omega = construct_omega(epsilon, d, 'OUE')\n",
        "        p, q = 0.5, 1.0 / (math.exp(epsilon) + 1.0)\n",
        "\n",
        "    elif mechanism == \"OLH\":\n",
        "        omega = construct_omega(epsilon, d, 'OLH')\n",
        "        g, p_olh, q_olh, a, b_n = _olh_params(epsilon, n)\n",
        "\n",
        "    elif mechanism in (\"HST_User\", \"HST_Server\"):\n",
        "        omega = construct_omega(epsilon, d, mechanism)\n",
        "\n",
        "    else:\n",
        "        raise ValueError(\"mechanism must be 'OUE', 'OLH', 'HST_User', or 'HST_Server'.\")\n",
        "\n",
        "    k_values = np.arange(d)\n",
        "    K = rng.choice(k_values, size=n, p=omega)\n",
        "\n",
        "    support = np.zeros((n, d), dtype=int)\n",
        "    for i, k in enumerate(K):\n",
        "        if k > 0:\n",
        "            idx = rng.choice(d, size=min(k, d), replace=False)\n",
        "            support[i, idx] = 1\n",
        "\n",
        "    one_list = support.sum(axis=1)\n",
        "    obs_counts = support.sum(axis=0).astype(float)\n",
        "\n",
        "    if mechanism == \"OUE\":\n",
        "        normal_ESTIMATE_DIST = (obs_counts - n * q) / max(p - q, 1e-12)\n",
        "    elif mechanism == \"OLH\":\n",
        "        normal_ESTIMATE_DIST = a * obs_counts - b_n\n",
        "    else:\n",
        "        normal_ESTIMATE_DIST = obs_counts\n",
        "\n",
        "    normal_ESTIMATE_Input = None\n",
        "    return support, one_list, normal_ESTIMATE_DIST, normal_ESTIMATE_Input"
      ],
      "metadata": {
        "id": "hYn4DyvA_XFw"
      },
      "execution_count": 34,
      "outputs": []
    },
    {
      "cell_type": "markdown",
      "source": [
        "## OLH"
      ],
      "metadata": {
        "id": "3xZn-O5q9zXJ"
      }
    },
    {
      "cell_type": "markdown",
      "source": [
        "### Attacked OLH"
      ],
      "metadata": {
        "id": "xtDZhJV4TwZq"
      }
    },
    {
      "cell_type": "code",
      "source": [
        "num_samples = 1000000\n"
      ],
      "metadata": {
        "id": "iUiCKUOx-Lzi"
      },
      "execution_count": 35,
      "outputs": []
    },
    {
      "cell_type": "code",
      "source": [
        "def uniform_sampling_best_vector(target_set, g, d, m, num_samples):\n",
        "    best_vector = None\n",
        "    closest_ones_diff = float('inf')\n",
        "    max_target_count = 0\n",
        "    best_score = -float('inf')\n",
        "    current_target = None\n",
        "    current_diff = None\n",
        "\n",
        "    for _ in range(num_samples):\n",
        "        # Generate uniform samples for binary vectors (0 or 1)\n",
        "        vector = np.random.binomial(1, 1 / g, size=d)\n",
        "\n",
        "        # Count the number of 1's in the vector\n",
        "        ones_count = np.sum(vector)\n",
        "        ones_diff = abs(ones_count - m)  # Difference between current 1's count and target m\n",
        "\n",
        "        # Count how many target items map to positions with 1's in the vector\n",
        "        target_count = sum(1 for item in target_set if vector[item % d] == 1)\n",
        "\n",
        "        # Calculate the score: target_count - ones_diff\n",
        "        score = target_count - ones_diff\n",
        "\n",
        "        # Update the best vector if the score is better\n",
        "        if score > best_score:\n",
        "            best_score = score\n",
        "            best_vector = vector\n",
        "            current_target = target_count\n",
        "            current_diff = ones_diff\n",
        "\n",
        "    return best_vector, current_target, current_diff"
      ],
      "metadata": {
        "id": "g-yTx0xJ-0RY"
      },
      "execution_count": 36,
      "outputs": []
    },
    {
      "cell_type": "code",
      "source": [
        "def calculate_prob_according_sample_size(num_samples, d, g, h, target_set, splits):\n",
        "\n",
        "    splits_list = random.sample(list(target_set), splits)\n",
        "    target_set = splits_list\n",
        "    user_vectors = []\n",
        "    p = 1 / g\n",
        "\n",
        "    mu = d * p\n",
        "    sigma = np.sqrt(d * p * (1 - p))\n",
        "\n",
        "    lower_bound = max(0, mu - h)\n",
        "    upper_bound = min(d, mu + h)\n",
        "\n",
        "    binom_dist = stats.binom(d, p)\n",
        "    ratio = (binom_dist.cdf(upper_bound) - binom_dist.cdf(lower_bound - 1))\n",
        "    ratio = ratio / (2 * h + 1)\n",
        "    # ratio = 1\n",
        "\n",
        "    N_effective = num_samples * ratio\n",
        "    print('N_effective: ', N_effective)\n",
        "\n",
        "    K_min = 1\n",
        "    K_max = len(target_set)\n",
        "    for K in range(K_max, K_min - 1, -1):\n",
        "        prob = (p) ** K * N_effective\n",
        "        if prob < 1:\n",
        "            K_max = K\n",
        "        else:\n",
        "            break\n",
        "    K_min = max(K_max, 1)\n",
        "\n",
        "    K_values = np.arange(K_min, len(target_set) + 1)\n",
        "    K_probs = []\n",
        "    for K in K_values:\n",
        "        prob = (p) ** K * N_effective\n",
        "        K_probs.append(prob)\n",
        "    K_probs = np.array(K_probs)\n",
        "\n",
        "    K_probs = K_probs / np.sum(K_probs)\n",
        "\n",
        "    return K_values, K_probs"
      ],
      "metadata": {
        "id": "9ZIopXEh9_wA"
      },
      "execution_count": 37,
      "outputs": []
    },
    {
      "cell_type": "code",
      "source": [
        "def process_attacker(i, n, ratio, target_set, g, domain, splits, h_ao, e, K_values, K_probs):\n",
        "    # Seed the random number generator uniquely for each process\n",
        "    k = np.random.choice(K_values, p=K_probs)\n",
        "    random.seed()\n",
        "    averge_project_hash = int(domain / g)\n",
        "    if splits < averge_project_hash:\n",
        "        # Split the target set for each user\n",
        "        splits_list = random.sample(list(target_set), splits)\n",
        "        # Gap between average mapping\n",
        "        num_map = averge_project_hash\n",
        "        # Remaining set (unused in this snippet but kept for completeness)\n",
        "        remaining_set = set(range(domain)) - set(target_set)\n",
        "        # Adaptive gap between average mapping\n",
        "        #h_ao = 0\n",
        "        if h_ao == 0:\n",
        "          num_map_AO = random.randint(num_map - int(h_ao), num_map + int(h_ao))\n",
        "        # theoretical APA use the omega_list to replace the num_map_AO num_map_AO = np.random.choice([i for i in range(domain)], construct_omega(e, domain, 'OLH_User'))\n",
        "        else:\n",
        "          omega_probs = construct_omega(e, domain, 'OLH_User')\n",
        "          num_map_AO = np.random.choice(range(domain), p=omega_probs)\n",
        "        non_target_ones = num_map_AO - k\n",
        "        # Each attacker finds their optimal hash function\n",
        "        '''best_vector, target_map, diff  = uniform_sampling_best_vector(\n",
        "            splits_list, g, domain, num_map_AO, num_samples)'''\n",
        "        target_indices = np.random.choice(list(splits_list), size=k, replace=False)\n",
        "        non_target_indices = list(set(range(domain)) - set(splits_list))\n",
        "        non_target_selected = np.random.choice(non_target_indices, size=non_target_ones, replace=False)\n",
        "        vector = np.zeros(domain, dtype=int)\n",
        "        vector[target_indices] = 1\n",
        "        vector[non_target_selected] = 1\n",
        "    else:\n",
        "        print('splits > averge_project_hash')\n",
        "        exit(0)\n",
        "    # Calculate the index in User_Seed to update\n",
        "    index = int(n * (1 - ratio) + i)\n",
        "    #print(f'attacker:{i}, target_map:{k}, diff:{num_map_AO - sum(vector)}, h_ao:{h_ao}, splits:{splits}')\n",
        "    return index, vector"
      ],
      "metadata": {
        "id": "j29AywDT-G1k"
      },
      "execution_count": 38,
      "outputs": []
    },
    {
      "cell_type": "code",
      "source": [
        "def process_user_seeds(i, User_Seed_noattack, Y_Nattack, domain, g):\n",
        "    print(\"Processing index\" + str(i))\n",
        "    local_estimate = np.zeros(domain)\n",
        "    user_seed = User_Seed_noattack[i]\n",
        "    for v in range(domain):\n",
        "        if Y_Nattack[i] == (xxhash.xxh3_64(str(v), seed=int(user_seed)).intdigest() % g):\n",
        "            local_estimate[v] += 1\n",
        "    # Apply the correction factor\n",
        "    local_estimate = local_estimate\n",
        "    return local_estimate"
      ],
      "metadata": {
        "id": "wDuaKSN8-Yjn"
      },
      "execution_count": 39,
      "outputs": []
    },
    {
      "cell_type": "code",
      "source": [
        "def find_hash_function(seed_list, target_set, domain_eliminate, g, num_map_AO):\n",
        "    # log the max projection number\n",
        "    best_score = -np.inf\n",
        "    # log the best projection seed\n",
        "    best_seed = -1\n",
        "    # log the target mapped\n",
        "    best_target_mapped = None\n",
        "    # log the best hash value\n",
        "    best_hash_value = None\n",
        "    # log the min gap\n",
        "    best_gap = None\n",
        "    for seed in seed_list:\n",
        "        hash_projection_list = np.zeros(g)\n",
        "        hash_other_projection_list = np.zeros(g)\n",
        "        hash_result = None\n",
        "        for item in target_set:\n",
        "            hash_result = xxhash.xxh3_64(str(item), seed=seed).intdigest() % g\n",
        "            hash_projection_list[hash_result] += 1\n",
        "        for item in domain_eliminate:\n",
        "            hash_result = xxhash.xxh3_64(str(item), seed=seed).intdigest() % g\n",
        "            hash_other_projection_list[hash_result] += 1\n",
        "        score = hash_projection_list - np.abs(num_map_AO - hash_projection_list - hash_other_projection_list)\n",
        "        current_best_score = np.max(score)\n",
        "        max_indices = np.where(score == current_best_score)[0]\n",
        "        current_max_target_mapped = hash_projection_list[max_indices]\n",
        "        current_untarget_mapped = hash_other_projection_list[max_indices]\n",
        "        current_hash_value = max_indices\n",
        "        current_gap = np.abs(num_map_AO - current_max_target_mapped - current_untarget_mapped)\n",
        "        if current_best_score > best_score:\n",
        "            best_seed = seed\n",
        "            best_score = current_best_score\n",
        "            best_hash_value = current_hash_value\n",
        "            best_gap = current_gap\n",
        "            best_target_mapped = current_max_target_mapped\n",
        "    if best_seed == -1:\n",
        "        return -1, 0.0, None\n",
        "    return best_seed, best_gap, best_target_mapped, best_hash_value\n"
      ],
      "metadata": {
        "id": "4uXgxorADGcK"
      },
      "execution_count": 40,
      "outputs": []
    },
    {
      "cell_type": "code",
      "source": [
        "def process_attacker_User(i, n, ratio, target_set, g, domain, splits, e, h_ao):\n",
        "    average_project_hash = int(domain / g)\n",
        "    vector = np.zeros(domain, dtype=int)\n",
        "    if splits < average_project_hash:\n",
        "        # Split the target set for each user\n",
        "        splits_list = random.sample(list(target_set), splits)\n",
        "        # Gap between average mapping\n",
        "        num_map = average_project_hash\n",
        "        # Remaining set (unused in this snippet but kept for completeness)\n",
        "        remaining_set = set(range(domain)) - set(target_set)\n",
        "        # Adaptive gap between average mapping\n",
        "        num_map_AO = random.randint(num_map - h_ao, num_map + h_ao)\n",
        "        # theoretical APA use the omega_list to replace the num_map_AO num_map_AO = np.random.choice([i for i in range(domain)], construct_omega(e, domain, 'OLH_User'))\n",
        "        #num_map_AO = np.random.choice([i for i in range(domain)], construct_omega(e, domain, 'OLH_User'))\n",
        "        seed_list = random.sample(range(1, 10000000), num_samples)\n",
        "        best_seed, best_gap, current_max_target_mapped, best_hash_value = find_hash_function(seed_list, splits_list,\n",
        "                                                                                             remaining_set, g,\n",
        "                                                                                             num_map_AO)\n",
        "    else:\n",
        "        print('splits > averge_project_hash')\n",
        "        exit(0)\n",
        "    # Calculate the index in User_Seed to update\n",
        "    index = int(n * (1 - ratio) + i)\n",
        "    for v in range(domain):\n",
        "        hashed_value = xxhash.xxh3_64(str(v), seed=int(best_seed)).intdigest() % g\n",
        "        if hashed_value == best_hash_value:\n",
        "            vector[v] = 1\n",
        "   # print(f'attacker:{i}, target_map:{current_max_target_mapped}, diff:{best_gap}, h_ao:{h_ao}, splits:{splits}')\n",
        "    return index, vector\n"
      ],
      "metadata": {
        "id": "dYT__9lRDBzT"
      },
      "execution_count": 41,
      "outputs": []
    },
    {
      "cell_type": "code",
      "source": [
        "\n",
        "def build_support_list_1_OLH(domain, Y, n, User_Seed, ratio, g, target_set, p, splits, e, h_ao=0, processor=100):\n",
        "\n",
        "    K_values, K_probs = calculate_prob_according_sample_size(num_samples, domain, g, h_ao, target_set, splits)\n",
        "\n",
        "    # Prepare the partial function with fixed arguments for multiprocessing\n",
        "    process_attacker_partial = partial(\n",
        "        #process_attacker_User,\n",
        "        # Simulate 1,000,000 hash samples, fast version\n",
        "        process_attacker,\n",
        "        n=n,\n",
        "        ratio=ratio,\n",
        "        target_set=target_set,\n",
        "        g=g,\n",
        "        domain=domain,\n",
        "        splits=splits,\n",
        "        h_ao= 10*h_ao,\n",
        "        e=e,\n",
        "        K_values = K_values,\n",
        "        K_probs = K_probs\n",
        "    )\n",
        "\n",
        "    # Calculate the number of attackers\n",
        "    num_attackers = int(round(n * ratio))\n",
        "\n",
        "    # Parallel execution of process_attacker using multiprocessing\n",
        "    with Pool(processes=processor) as pool:\n",
        "        # Use imap to process in parallel and tqdm for progress bar\n",
        "        results = list(tqdm(\n",
        "            pool.imap(process_attacker_partial, range(num_attackers)),\n",
        "            total=num_attackers,\n",
        "            desc='Finding optimal seeds'\n",
        "        ))\n",
        "\n",
        "    vector_matrix = np.zeros((num_attackers, domain))\n",
        "    # Update User_Seed with the results from all attackers\n",
        "    for i, (index, best_vector) in enumerate(results):\n",
        "        vector_matrix[i, :] = best_vector\n",
        "\n",
        "    # Create a partial function with fixed arguments for processing user seeds\n",
        "    process_partial = partial(\n",
        "        process_user_seeds,\n",
        "        User_Seed_noattack=User_Seed,\n",
        "        Y_Nattack=Y,\n",
        "        domain=domain,\n",
        "        g=g\n",
        "    )\n",
        "\n",
        "    # Process user seeds across multiple processes\n",
        "    with Pool(processes=processor) as pool:\n",
        "        estimates = pool.map(process_partial, range(n - num_attackers))\n",
        "    # input attack's estimate\n",
        "    '''with Pool(processes=processor) as pool:\n",
        "        estimates_input = pool.map(process_partial, range(int(n)))'''\n",
        "\n",
        "    # Combine the results from all processes\n",
        "    estimates = np.array(estimates)\n",
        "    # estimates_input = np.array(estimates_input)\n",
        "    # estimates_input = estimates_input.reshape(int(n), domain)\n",
        "    estimates = np.vstack((estimates, vector_matrix))\n",
        "    estimates = estimates.reshape(int(n), domain)\n",
        "    Results_support = estimates\n",
        "    Results_support_one_list = np.sum(Results_support, axis=1)\n",
        "    Estimations = np.sum(Results_support, axis=0)\n",
        "    # Estimations_input = np.sum(estimates_input, axis=0)\n",
        "    a = 1.0 * g / (p * g - 1)\n",
        "    b = 1.0 * n / (p * g - 1)\n",
        "    Estimations = a * Estimations - b\n",
        "    # Estimations_input = a * Estimations_input - b\n",
        "    Estimations_input = None\n",
        "    return Results_support, Results_support_one_list, Estimations, Estimations_input"
      ],
      "metadata": {
        "id": "wxMTuBGz9yL7"
      },
      "execution_count": 42,
      "outputs": []
    },
    {
      "cell_type": "markdown",
      "source": [
        "### Normal OLH"
      ],
      "metadata": {
        "id": "scVsozbNT0od"
      }
    },
    {
      "cell_type": "code",
      "metadata": {
        "id": "1a5e55d7"
      },
      "source": [
        "def perturb_normal_olh(X, g, p, q):\n",
        "\n",
        "    Y_normal = np.zeros(len(X))\n",
        "    for i, v in enumerate(X):\n",
        "        # Generate hash value\n",
        "        x = (xxhash.xxh3_64(str(v), seed=i).intdigest() % g)\n",
        "        y = x\n",
        "        p_sample = np.random.random_sample()\n",
        "\n",
        "        # Apply perturbation\n",
        "        if p_sample <= p:\n",
        "\n",
        "            # perturb\n",
        "            y = np.random.randint(0, g)\n",
        "        Y_normal[i] = y\n",
        "    return Y_normal"
      ],
      "execution_count": 70,
      "outputs": []
    },
    {
      "cell_type": "code",
      "metadata": {
        "id": "fca9b174"
      },
      "source": [
        "def build_support_list_normal_olh(Y_normal, n, domain, g, p):\n",
        "    Results_support_normal = np.zeros((n, domain))\n",
        "    Estimations_normal_raw = np.zeros(domain)\n",
        "\n",
        "    for i in range(n):\n",
        "        user_seed = i  # Use the same seed as in perturbation\n",
        "        for v in range(domain):\n",
        "            hashed_value = (xxhash.xxh3_64(str(v), seed=user_seed).intdigest() % g)\n",
        "            if Y_normal[i] == hashed_value:\n",
        "                Results_support_normal[i, v] += 1\n",
        "                Estimations_normal_raw[v] += 1\n",
        "\n",
        "    Results_support_one_list_normal = np.sum(Results_support_normal, axis=1)\n",
        "\n",
        "    # Apply the OLH correction factor\n",
        "    a = 1.0 * g / (p * g - 1)\n",
        "    b = 1.0 * n / (p * g - 1)\n",
        "    Estimations_normal = a * Estimations_normal_raw - b\n",
        "\n",
        "    return Results_support_normal, Results_support_one_list_normal, Estimations_normal"
      ],
      "execution_count": 71,
      "outputs": []
    },
    {
      "cell_type": "markdown",
      "source": [
        "## OUE"
      ],
      "metadata": {
        "id": "XJzX0r4KtWne"
      }
    },
    {
      "cell_type": "markdown",
      "source": [
        "### Normal OUE"
      ],
      "metadata": {
        "id": "LHDwFbDYwcek"
      }
    },
    {
      "cell_type": "code",
      "metadata": {
        "id": "67411699"
      },
      "source": [
        "def perturb_normal_oue_process(args):\n",
        "    start, end, domain, q_OUE, X = args\n",
        "    local_user_data = np.zeros((end - start, domain), dtype=int)\n",
        "\n",
        "    for i in tqdm(range(start, end)):\n",
        "        v = X[i]\n",
        "        random_flip = np.random.rand(domain) < q_OUE\n",
        "        local_user_data[i - start, :] = random_flip\n",
        "        local_user_data[i - start, v] = 1 if np.random.rand() < 0.5 else 0\n",
        "    return local_user_data"
      ],
      "execution_count": 65,
      "outputs": []
    },
    {
      "cell_type": "code",
      "metadata": {
        "id": "f258ff03"
      },
      "source": [
        "def perturb_normal_OUE_multi(X, domain, epsilon, num_processes=1):\n",
        "    q_OUE = 1 / (math.exp(epsilon) + 1)\n",
        "    p = 0.5\n",
        "\n",
        "    # Split the task into chunks for each process\n",
        "    ranges = [(i * n // num_processes, (i + 1) * n // num_processes, domain, q_OUE, X) for i in range(num_processes)]\n",
        "    with Pool(num_processes) as pool:\n",
        "        results = pool.map(perturb_normal_oue_process, ranges)\n",
        "    # Combine the results from each process\n",
        "    user_data = np.vstack(results)\n",
        "    return user_data"
      ],
      "execution_count": 66,
      "outputs": []
    },
    {
      "cell_type": "markdown",
      "source": [
        "### Attacked OUE"
      ],
      "metadata": {
        "id": "KAIDjbkqta_R"
      }
    },
    {
      "cell_type": "code",
      "source": [
        "def build_support_list_1_OUE(estimates, n, epsilon):\n",
        "    q_OUE = 1 / (math.exp(epsilon) + 1)\n",
        "    p = 0.5\n",
        "    q = q_OUE\n",
        "    Results_support = np.array(estimates)\n",
        "    Estimations = np.sum(Results_support, axis=0)\n",
        "    Results_support_one_list = np.sum(Results_support, axis=1)\n",
        "    Estimations = [(i - n * q_OUE) / (p - q_OUE) for i in Estimations]\n",
        "    Estimations_input = None\n",
        "\n",
        "    return Results_support, Results_support_one_list, Estimations, Estimations_input\n"
      ],
      "metadata": {
        "id": "66kL0Kgit8Ky"
      },
      "execution_count": 67,
      "outputs": []
    },
    {
      "cell_type": "code",
      "source": [
        "def perturb_oue_process(args):\n",
        "    start, end, n, domain, q_OUE, ratio, target_set, X, h_ao, splits, average_1_num_list = args\n",
        "    local_user_data = np.zeros((end - start, domain), dtype=int)\n",
        "    h_ao *= 10\n",
        "\n",
        "    for i in tqdm(range(start, end)):\n",
        "        v = X[i]\n",
        "        if i < n * (1 - ratio):\n",
        "            # benign users\n",
        "            random_flip = np.random.rand(domain) < q_OUE\n",
        "            local_user_data[i - start, :] = random_flip\n",
        "            local_user_data[i - start, v] = 1 if np.random.rand() < 0.5 else 0\n",
        "        else:\n",
        "            # fake users\n",
        "            if splits < average_1_num_list[i]:\n",
        "                splits_list = random.sample(list(target_set), splits)\n",
        "                local_user_data[i - start, list(splits_list)] = 1\n",
        "                remaining_set = list(set(range(domain)) - set(splits_list))\n",
        "                diff = int(average_1_num_list[i] - len(splits_list))\n",
        "                diff_AO = random.randint(diff - h_ao, diff + h_ao)\n",
        "                #print(f'attacker:{i}, exp1:{int(0.5 + (domain - 1) * q_OUE)}, h_ao:{h_ao}, splits:{splits}')\n",
        "                if diff_AO > 0 and len(remaining_set) >= diff:\n",
        "                    random_numbers = random.sample(remaining_set, diff_AO)\n",
        "                    local_user_data[i - start, random_numbers] = 1\n",
        "            else:\n",
        "                splits_list = random.sample(list(target_set), average_1_num_list[i])\n",
        "                local_user_data[i - start, list(splits_list)] = 1\n",
        "                remaining_set = list(set(range(domain)) - set(splits_list))\n",
        "                diff = int(average_1_num_list[i] - len(splits_list))\n",
        "                diff_AO = random.randint(diff - h_ao, diff + h_ao)\n",
        "                #print(f'attacker:{i}, exp1:{int(0.5 + (domain - 1) * q_OUE)}, h_ao:{h_ao}, splits:{splits}')\n",
        "                if diff_AO > 0 and len(remaining_set) >= diff:\n",
        "                    random_numbers = random.sample(remaining_set, diff_AO)\n",
        "                    local_user_data[i - start, random_numbers] = 1\n",
        "    return local_user_data"
      ],
      "metadata": {
        "id": "eXRTqHgntpK5"
      },
      "execution_count": 68,
      "outputs": []
    },
    {
      "cell_type": "code",
      "source": [
        "def perturb_OUE_multi(target_set = None, ratio = 0, h_ao = 0, split = 0, num_processes=1):\n",
        "    global p, q\n",
        "    q_OUE = 1 / (math.exp(epsilon) + 1)\n",
        "    p = 0.5\n",
        "    q = q_OUE\n",
        "    #theoretical_pdf = construct_omega(epsilon, domain, 'OUE')\n",
        "    #average_1_num_list = [int(0.5 + (domain - 1) * q_OUE)] * n\n",
        "    # theoretical APA use the below code to replace the average_1_num_list and set h_ao = 0\n",
        "    omega_probs = construct_omega(epsilon, domain, 'OUE')\n",
        "    if h_ao == 1:\n",
        "        average_1_num_list = np.random.choice([i for i in range(domain)], size=n, p=omega_probs)\n",
        "    else:\n",
        "        # When h_ao is not 1, ensure average_1_num_list is an array of size n\n",
        "        average_1_num_list = [int(0.5 + (domain - 1) * q_OUE)] * n\n",
        "\n",
        "    # Split the task into chunks for each process\n",
        "    ranges = [(i * n // num_processes, (i + 1) * n // num_processes, n, domain, q_OUE, ratio, target_set, X, h_ao, split, average_1_num_list) for i in range(num_processes)]\n",
        "    with Pool(num_processes) as pool:\n",
        "        results = pool.map(perturb_oue_process, ranges)\n",
        "    # Combine the results from each process\n",
        "    user_data = np.vstack(results)\n",
        "    #Estimations = np.sum(user_data, axis=0)\n",
        "    return user_data"
      ],
      "metadata": {
        "id": "Xss_A7V1tYfY"
      },
      "execution_count": 69,
      "outputs": []
    },
    {
      "cell_type": "code",
      "source": [],
      "metadata": {
        "id": "AgaAw9I3Or_K"
      },
      "execution_count": 69,
      "outputs": []
    },
    {
      "cell_type": "markdown",
      "source": [
        "## Attacked List of 1s"
      ],
      "metadata": {
        "id": "kay58bmsABdi"
      }
    },
    {
      "cell_type": "code",
      "source": [
        "# Define the protocol (either 'OUE' or 'OLH')\n",
        "protocol = 'OUE' # Change to 'OUE' to run OUE protocol"
      ],
      "metadata": {
        "id": "gsbj74eawQG5"
      },
      "execution_count": 46,
      "outputs": []
    },
    {
      "cell_type": "code",
      "source": [
        "target_set = random.sample(range(0, domain), target_set_size)\n"
      ],
      "metadata": {
        "id": "Sg-wx0Db9GfM"
      },
      "execution_count": 47,
      "outputs": []
    },
    {
      "cell_type": "code",
      "source": [
        "f_T = sum(REAL_DIST[element] for element in target_set) / sum(REAL_DIST)\n",
        "\n",
        "Gain = (Gain - n * ratio * (f_T * (p - 1/g) + target_set_size * 1/g)) / (n * (p - 1/g))\n",
        "print('Gain: ', Gain)"
      ],
      "metadata": {
        "colab": {
          "base_uri": "https://localhost:8080/"
        },
        "id": "VX_iabDD864S",
        "outputId": "4edca00a-f737-4f5a-d5af-e71e4e99f774"
      },
      "execution_count": 48,
      "outputs": [
        {
          "output_type": "stream",
          "name": "stdout",
          "text": [
            "Gain:  -15.839309220756418\n"
          ]
        }
      ]
    },
    {
      "cell_type": "code",
      "source": [
        "\n",
        "User_Seed = perturb_ideal(target_set, ratio, epsilon)"
      ],
      "metadata": {
        "id": "-g1hFlw09cZo"
      },
      "execution_count": 49,
      "outputs": []
    },
    {
      "cell_type": "code",
      "source": [
        "# one_list is per user support, EST_DIST is per domain support and support list is per user 1s list\n",
        "if protocol == \"OLH\":\n",
        "  support_list, one_list, ESTIMATE_DIST_Nattack, ESTIMATE_Input = build_support_list_1_OLH(domain, Y, n, User_Seed, ratio, g, target_set, p, splits, h_ao, epsilon, processor=2)\n",
        "elif protocol == \"OUE\":\n",
        "   ESTIMATE_DIST_Matrix = perturb_OUE_multi(target_set, ratio, h_ao, splits)\n",
        "   perturb_method = 'OUE'\n",
        "   support_list, one_list, ESTIMATE_DIST_Nattack, ESTIMATE_Input = build_support_list_1_OUE(\n",
        "        ESTIMATE_DIST_Matrix, n, epsilon)"
      ],
      "metadata": {
        "colab": {
          "base_uri": "https://localhost:8080/"
        },
        "id": "KxuRWQnS9H-r",
        "outputId": "a6907c0a-acd9-4989-e3a0-cff30f7876df"
      },
      "execution_count": 50,
      "outputs": [
        {
          "output_type": "stream",
          "name": "stderr",
          "text": [
            "100%|██████████| 70000/70000 [00:15<00:00, 4652.55it/s]\n"
          ]
        }
      ]
    },
    {
      "cell_type": "markdown",
      "source": [
        "## Ideal List of 1s"
      ],
      "metadata": {
        "id": "mGpcQxTP6Dkm"
      }
    },
    {
      "cell_type": "code",
      "source": [
        "if protocol == \"OUE\":\n",
        "    ideal_support_list, ideal_one_list, ideal_ESTIMATE_DIST, ideal_ESTIMATE_Input = \\\n",
        "        build_normal_lists_from_mechanism_stochastic(epsilon=epsilon, d=domain, n=n, mechanism=\"OUE\", seed=42)\n",
        "\n",
        "elif protocol == \"OLH\":\n",
        "    ideal_support_list, ideal_one_list, ideal_ESTIMATE_DIST, ideal_ESTIMATE_Input = \\\n",
        "        build_normal_lists_from_mechanism_stochastic(epsilon=epsilon, d=domain, n=n, mechanism=\"OLH\", seed=42)\n",
        "\n",
        "else:\n",
        "    raise ValueError(\"protocol must be 'OUE' or 'OLH'\")"
      ],
      "metadata": {
        "id": "MjzMwAYg612O"
      },
      "execution_count": 62,
      "outputs": []
    },
    {
      "cell_type": "markdown",
      "source": [
        "## Normal List"
      ],
      "metadata": {
        "id": "SRrFEnJO_nSj"
      }
    },
    {
      "cell_type": "code",
      "metadata": {
        "colab": {
          "base_uri": "https://localhost:8080/"
        },
        "id": "f3ac2da4",
        "outputId": "5b434e73-13a6-4d7f-8b21-3c98b140e60b"
      },
      "source": [
        "# Define the protocol (either 'OUE' or 'OLH')\n",
        "protocol = 'OLH' # Change to 'OUE' to run OUE protocol\n",
        "\n",
        "if protocol == 'OLH':\n",
        "    print(\"Running OLH protocol...\")\n",
        "    # Normal OLH\n",
        "    Y_normal = perturb_normal_olh(X, g, p, q)\n",
        "    no_attack_support_list, no_attack_one_list, no_attack_ESTIMATE_DIST = build_support_list_normal_olh(Y_normal, n, domain, g, p)\n",
        "    no_attack_ESTIMATE_Input = None\n",
        "\n",
        "\n",
        "elif protocol == 'OUE':\n",
        "    print(\"Running OUE protocol...\")\n",
        "    # Normal OUE\n",
        "    Y_normal = perturb_normal_OUE_multi(X, domain, epsilon, num_processes=2)\n",
        "    no_attack_support_list, no_attack_one_list, no_attack_ESTIMATE_DIST, _ = build_support_list_1_OUE(Y_normal, n, epsilon)\n",
        "\n",
        "else:\n",
        "    print(\"Invalid protocol specified. Please choose 'OLH' or 'OUE'.\")"
      ],
      "execution_count": 72,
      "outputs": [
        {
          "output_type": "stream",
          "name": "stdout",
          "text": [
            "Running OLH protocol...\n"
          ]
        }
      ]
    },
    {
      "cell_type": "code",
      "source": [
        "#Y_normal = perturb_normal_olh(X, g, p, q)\n",
        "#no_attack_support_list, no_attack_one_list, no_attack_ESTIMATE_DIST = build_support_list_normal_olh(Y_normal, n, domain, g, p)\n",
        "#no_attack_ESTIMATE_Input = None"
      ],
      "metadata": {
        "id": "ZBBPYrwPTjhQ"
      },
      "execution_count": null,
      "outputs": []
    },
    {
      "cell_type": "markdown",
      "source": [
        "## Comparison"
      ],
      "metadata": {
        "id": "x8lV-GuG6z0l"
      }
    },
    {
      "cell_type": "code",
      "source": [
        "from scipy.spatial.distance import jensenshannon\n",
        "from sklearn.metrics import mean_squared_error\n",
        "import matplotlib.pyplot as plt\n",
        "from scipy.stats import wasserstein_distance, ks_2samp"
      ],
      "metadata": {
        "id": "xBBUk1Dp2GKG"
      },
      "execution_count": 53,
      "outputs": []
    },
    {
      "cell_type": "code",
      "source": [
        "def calculate_distribution_differences(attack_dist, normal_dist, attack_one_list, normal_one_list):\n",
        "    \"\"\"\n",
        "    Calculate various statistical measures to quantify differences between\n",
        "    attacked and normal distributions/one_lists\n",
        "    \"\"\"\n",
        "\n",
        "    # Ensure arrays are numpy arrays\n",
        "    attack_dist = np.array(attack_dist)\n",
        "    normal_dist = np.array(normal_dist)\n",
        "    attack_one_list = np.array(attack_one_list)\n",
        "    normal_one_list = np.array(normal_one_list)\n",
        "\n",
        "    differences = {}\n",
        "\n",
        "    # 1. Jensen-Shannon Divergence (symmetric KL divergence)\n",
        "    # Ensure non-negativity and normalize for probability distributions\n",
        "    attack_prob = np.maximum(attack_dist, 0)\n",
        "    normal_prob = np.maximum(normal_dist, 0)\n",
        "\n",
        "    attack_prob = attack_prob / np.sum(attack_prob) if np.sum(attack_prob) > 0 else attack_prob\n",
        "    normal_prob = normal_prob / np.sum(normal_prob) if np.sum(normal_prob) > 0 else normal_prob\n",
        "\n",
        "    epsilon = 1e-10\n",
        "    attack_prob = attack_prob + epsilon\n",
        "    normal_prob = normal_prob + epsilon\n",
        "    attack_prob = attack_prob / np.sum(attack_prob)\n",
        "    normal_prob = normal_prob / np.sum(normal_prob)\n",
        "\n",
        "    js_divergence = jensenshannon(attack_prob, normal_prob)\n",
        "    differences['jensen_shannon_divergence'] = js_divergence\n",
        "\n",
        "    # 2. Kullback-Leibler Divergence (directional)\n",
        "    kl_divergence = stats.entropy(attack_prob, normal_prob)\n",
        "    differences['kl_divergence'] = kl_divergence\n",
        "\n",
        "    # 3. Wasserstein Distance (Earth Mover's Distance)\n",
        "    # Use the non-negative probabilities for Wasserstein distance\n",
        "    wasserstein_dist = wasserstein_distance(range(len(attack_dist)), range(len(normal_dist)),\n",
        "                                          attack_prob, normal_prob)\n",
        "    differences['wasserstein_distance'] = wasserstein_dist\n",
        "\n",
        "    # 4. Kolmogorov-Smirnov Test\n",
        "    # First convert distributions to samples\n",
        "    # Need to handle potential non-integer counts due to estimation.\n",
        "    # Rounding to nearest integer or sampling based on probability could be options.\n",
        "    # For simplicity here, we'll skip KS test on distributions with negative estimates.\n",
        "    # A more robust approach would involve a different test or distribution transformation.\n",
        "    attack_samples = np.repeat(range(len(attack_dist)), np.maximum(attack_dist, 0).astype(int))\n",
        "    normal_samples = np.repeat(range(len(normal_dist)), np.maximum(normal_dist, 0).astype(int))\n",
        "\n",
        "\n",
        "    if len(attack_samples) > 0 and len(normal_samples) > 0:\n",
        "        # KS test requires non-negative counts. Using rounded non-negative counts.\n",
        "        ks_stat, ks_pvalue = ks_2samp(attack_samples, normal_samples)\n",
        "        differences['ks_statistic'] = ks_stat\n",
        "        differences['ks_pvalue'] = ks_pvalue\n",
        "    else:\n",
        "        differences['ks_statistic'] = np.nan\n",
        "        differences['ks_pvalue'] = np.nan\n",
        "\n",
        "\n",
        "    # 5. Chi-square test\n",
        "    if len(attack_dist) == len(normal_dist):\n",
        "        # Combine distributions for chi-square test\n",
        "        # Chi-square test requires non-negative observed and expected frequencies\n",
        "        observed = np.maximum(attack_dist, 0)\n",
        "        expected = np.maximum(normal_dist, 0)\n",
        "        # Avoid division by zero\n",
        "        expected = np.where(expected == 0, 1e-10, expected) # Use a small epsilon for expected=0\n",
        "        chi2_stat = np.sum((observed - expected)**2 / expected)\n",
        "        differences['chi_square_statistic'] = chi2_stat\n",
        "    else:\n",
        "        differences['chi_square_statistic'] = np.nan\n",
        "\n",
        "    # 6. Mean Squared Error between distributions\n",
        "    if len(attack_dist) == len(normal_dist):\n",
        "        mse_dist = mean_squared_error(normal_dist, attack_dist) # MSE can handle negative values\n",
        "        differences['distribution_mse'] = mse_dist\n",
        "    else:\n",
        "        differences['distribution_mse'] = np.nan\n",
        "\n",
        "    # 7. Total Variation Distance\n",
        "    tv_distance = 0.5 * np.sum(np.abs(attack_prob - normal_prob))\n",
        "    differences['total_variation_distance'] = tv_distance\n",
        "\n",
        "\n",
        "    # 8. Statistical moments comparison\n",
        "    differences['mean_difference'] = np.mean(attack_one_list) - np.mean(normal_one_list)\n",
        "    differences['std_difference'] = np.std(attack_one_list) - np.std(normal_one_list)\n",
        "    differences['skewness_difference'] = stats.skew(attack_one_list) - stats.skew(normal_one_list)\n",
        "    differences['kurtosis_difference'] = stats.kurtosis(attack_one_list) - stats.kurtosis(normal_one_list)\n",
        "\n",
        "    # 9. Two-sample t-test\n",
        "    t_stat, t_pvalue = stats.ttest_ind(attack_one_list, normal_one_list)\n",
        "    differences['t_test_statistic'] = t_stat\n",
        "    differences['t_test_pvalue'] = t_pvalue\n",
        "\n",
        "    # 10. Mann-Whitney U test (non-parametric)\n",
        "    u_stat, u_pvalue = stats.mannwhitneyu(attack_one_list, normal_one_list, alternative='two-sided')\n",
        "    differences['mannwhitney_statistic'] = u_stat\n",
        "    differences['mannwhitney_pvalue'] = u_pvalue\n",
        "\n",
        "    # 11. Kolmogorov-Smirnov test for one_lists\n",
        "    ks_one_stat, ks_one_pvalue = ks_2samp(attack_one_list, normal_one_list)\n",
        "    differences['ks_one_list_statistic'] = ks_one_stat\n",
        "    differences['ks_one_list_pvalue'] = ks_one_pvalue\n",
        "\n",
        "    # 15. Range and IQR differences\n",
        "    attack_range = np.ptp(attack_one_list)  # peak-to-peak (range)\n",
        "    normal_range = np.ptp(normal_one_list)\n",
        "    differences['range_difference'] = attack_range - normal_range\n",
        "\n",
        "    attack_iqr = np.percentile(attack_one_list, 75) - np.percentile(attack_one_list, 25)\n",
        "    normal_iqr = np.percentile(normal_one_list, 75) - np.percentile(normal_one_list, 25)\n",
        "    differences['iqr_difference'] = attack_iqr - normal_iqr\n",
        "\n",
        "\n",
        "    return differences"
      ],
      "metadata": {
        "id": "MUtUKXdm2QLr"
      },
      "execution_count": 54,
      "outputs": []
    },
    {
      "cell_type": "code",
      "source": [
        "def create_feature_vector(differences):\n",
        "    \"\"\"\n",
        "    Create a feature vector for machine learning from the differences dictionary\n",
        "    \"\"\"\n",
        "    features = []\n",
        "    feature_names = []\n",
        "\n",
        "    for key, value in differences.items():\n",
        "        if not np.isnan(value) and not np.isinf(value):\n",
        "            features.append(value)\n",
        "            feature_names.append(key)\n",
        "\n",
        "    return np.array(features), feature_names"
      ],
      "metadata": {
        "id": "oq9NtKqR2QQk"
      },
      "execution_count": 55,
      "outputs": []
    },
    {
      "cell_type": "code",
      "source": [
        "def plot_comparison_analysis(attack_dist, normal_dist, attack_one_list, normal_one_list, differences):\n",
        "    \"\"\"\n",
        "    Create comprehensive visualization of the differences\n",
        "    \"\"\"\n",
        "    fig, axes = plt.subplots(2, 3, figsize=(18, 12))\n",
        "\n",
        "    # Plot 1: Distribution comparison\n",
        "    axes[0, 0].bar(range(len(normal_dist)), normal_dist, alpha=0.6, label='Normal', color='blue')\n",
        "    axes[0, 0].bar(range(len(attack_dist)), attack_dist, alpha=0.6, label='Attack', color='red')\n",
        "    axes[0, 0].set_title('Distribution Comparison')\n",
        "    axes[0, 0].set_xlabel('Domain Values')\n",
        "    axes[0, 0].set_ylabel('Frequency')\n",
        "    axes[0, 0].legend()\n",
        "\n",
        "    # Plot 2: One_list histograms\n",
        "    axes[0, 1].hist(normal_one_list, bins=50, alpha=0.6, label='Normal', color='blue', density=True)\n",
        "    axes[0, 1].hist(attack_one_list, bins=50, alpha=0.6, label='Attack', color='red', density=True)\n",
        "    axes[0, 1].set_title('One List Distribution')\n",
        "    axes[0, 1].set_xlabel('Values')\n",
        "    axes[0, 1].set_ylabel('Density')\n",
        "    axes[0, 1].legend()\n",
        "\n",
        "    # Plot 3: Box plots\n",
        "    axes[0, 2].boxplot([normal_one_list, attack_one_list], labels=['Normal', 'Attack'])\n",
        "    axes[0, 2].set_title('Box Plot Comparison')\n",
        "    axes[0, 2].set_ylabel('Values')\n",
        "\n",
        "    # Plot 4: Q-Q plot\n",
        "    from scipy.stats import probplot\n",
        "    probplot(attack_one_list, dist=stats.norm, plot=axes[1, 0])\n",
        "    axes[1, 0].set_title('Q-Q Plot: Attack vs Normal Distribution')\n",
        "\n",
        "    # Plot 5: Statistical measures bar chart\n",
        "    key_measures = ['jensen_shannon_divergence', 'wasserstein_distance', 'mean_difference',\n",
        "                   'std_difference', 'ks_one_list_statistic']\n",
        "    key_values = [differences.get(k, 0) for k in key_measures]\n",
        "\n",
        "    axes[1, 1].bar(range(len(key_measures)), key_values, color=['red', 'orange', 'yellow', 'green', 'blue'])\n",
        "    axes[1, 1].set_xticks(range(len(key_measures)))\n",
        "    axes[1, 1].set_xticklabels(key_measures, rotation=45, ha='right')\n",
        "    axes[1, 1].set_title('Key Statistical Measures')\n",
        "    axes[1, 1].set_ylabel('Value')\n",
        "\n",
        "    # Plot 6: Cumulative distribution\n",
        "    sorted_normal = np.sort(normal_one_list)\n",
        "    sorted_attack = np.sort(attack_one_list)\n",
        "    y_normal = np.arange(1, len(sorted_normal) + 1) / len(sorted_normal)\n",
        "    y_attack = np.arange(1, len(sorted_attack) + 1) / len(sorted_attack)\n",
        "\n",
        "    axes[1, 2].plot(sorted_normal, y_normal, label='Normal', color='blue', linewidth=2)\n",
        "    axes[1, 2].plot(sorted_attack, y_attack, label='Attack', color='red', linewidth=2)\n",
        "    axes[1, 2].set_title('Cumulative Distribution Function')\n",
        "    axes[1, 2].set_xlabel('Values')\n",
        "    axes[1, 2].set_ylabel('Cumulative Probability')\n",
        "    axes[1, 2].legend()\n",
        "\n",
        "    plt.tight_layout()\n",
        "    plt.show()"
      ],
      "metadata": {
        "id": "tC5xpRNF3UL_"
      },
      "execution_count": 56,
      "outputs": []
    },
    {
      "cell_type": "code",
      "source": [
        "def print_analysis_summary(differences):\n",
        "    \"\"\"\n",
        "    Print a summary of the key differences\n",
        "    \"\"\"\n",
        "    print(\"=\" * 60)\n",
        "    print(\"STATISTICAL DIFFERENCE ANALYSIS SUMMARY\")\n",
        "    print(\"=\" * 60)\n",
        "\n",
        "    print(\"\\n📊 DISTRIBUTION-BASED MEASURES:\")\n",
        "    print(f\"  Jensen-Shannon Divergence: {differences['jensen_shannon_divergence']:.6f}\")\n",
        "    print(f\"  Wasserstein Distance: {differences['wasserstein_distance']:.6f}\")\n",
        "    print(f\"  Total Variation Distance: {differences['total_variation_distance']:.6f}\")\n",
        "    print(f\"  KL Divergence: {differences['kl_divergence']:.6f}\")\n",
        "\n",
        "    print(\"\\n📈 ONE_LIST STATISTICAL MEASURES:\")\n",
        "    print(f\"  Mean Difference: {differences['mean_difference']:.6f}\")\n",
        "    print(f\"  Std Deviation Difference: {differences['std_difference']:.6f}\")\n",
        "    print(f\"  Skewness Difference: {differences['skewness_difference']:.6f}\")\n",
        "    print(f\"  Kurtosis Difference: {differences['kurtosis_difference']:.6f}\")\n",
        "\n",
        "    print(\"\\n🔬 HYPOTHESIS TESTS:\")\n",
        "    print(f\"  T-test p-value: {differences['t_test_pvalue']:.6f}\")\n",
        "    print(f\"  Mann-Whitney p-value: {differences['mannwhitney_pvalue']:.6f}\")\n",
        "    print(f\"  KS test p-value: {differences['ks_one_list_pvalue']:.6f}\")\n",
        "\n",
        "    print(\"\\n🎯 FEATURE ENGINEERING INSIGHTS:\")\n",
        "    # Identify most discriminative features\n",
        "    discriminative_features = []\n",
        "\n",
        "    if differences['jensen_shannon_divergence'] > 0.1:\n",
        "        discriminative_features.append(\"High JS divergence - distributions are quite different\")\n",
        "\n",
        "    if differences['t_test_pvalue'] < 0.05:\n",
        "        discriminative_features.append(\"Significant t-test - means are different\")\n",
        "\n",
        "    if differences['ks_one_list_pvalue'] < 0.05:\n",
        "        discriminative_features.append(\"Significant KS test - distributions are different\")\n",
        "\n",
        "    if abs(differences['mean_difference']) > abs(differences['std_difference']):\n",
        "        discriminative_features.append(\"Mean shift is primary difference\")\n",
        "    else:\n",
        "        discriminative_features.append(\"Variance change is primary difference\")\n",
        "\n",
        "    for feature in discriminative_features:\n",
        "        print(f\"  • {feature}\")\n"
      ],
      "metadata": {
        "id": "o9pgw9-j3ZU2"
      },
      "execution_count": 57,
      "outputs": []
    },
    {
      "cell_type": "code",
      "source": [
        "differences = calculate_distribution_differences(\n",
        "    ESTIMATE_DIST_Nattack,  # attack_dist\n",
        "    ideal_ESTIMATE_DIST,  # normal_dist\n",
        "    one_list,  # attack_one_list\n",
        "    ideal_one_list  # normal_one_list\n",
        ")"
      ],
      "metadata": {
        "id": "ttiUYSmU3pRy"
      },
      "execution_count": 63,
      "outputs": []
    },
    {
      "cell_type": "code",
      "source": [
        "plot_comparison_analysis(\n",
        "    ESTIMATE_DIST_Nattack,\n",
        "    ideal_ESTIMATE_DIST,\n",
        "    one_list,\n",
        "    ideal_one_list,\n",
        "    differences\n",
        ")"
      ],
      "metadata": {
        "colab": {
          "base_uri": "https://localhost:8080/",
          "height": 624
        },
        "id": "wbprdyX432Wo",
        "outputId": "fbaf1cff-67f3-4e59-aaa5-a186a921524a"
      },
      "execution_count": 64,
      "outputs": [
        {
          "output_type": "stream",
          "name": "stderr",
          "text": [
            "/tmp/ipython-input-627886956.py:24: MatplotlibDeprecationWarning: The 'labels' parameter of boxplot() has been renamed 'tick_labels' since Matplotlib 3.9; support for the old name will be dropped in 3.11.\n",
            "  axes[0, 2].boxplot([normal_one_list, attack_one_list], labels=['Normal', 'Attack'])\n"
          ]
        },
        {
          "output_type": "display_data",
          "data": {
            "text/plain": [
              "<Figure size 1800x1200 with 6 Axes>"
            ],
            "image/png": "[encoded data removed]"
          },
          "metadata": {}
        }
      ]
    },
    {
      "cell_type": "code",
      "source": [],
      "metadata": {
        "id": "ii8YM7N96GZc"
      },
      "execution_count": 59,
      "outputs": []
    },
    {
      "cell_type": "markdown",
      "source": [
        "# WGAN"
      ],
      "metadata": {
        "id": "dyWmD9XD-or4"
      }
    },
    {
      "cell_type": "code",
      "source": [
        "import torch\n",
        "import torch.nn as nn\n",
        "import torch.optim as optim\n",
        "import numpy as np\n",
        "from torch.utils.data import DataLoader, TensorDataset\n",
        "import matplotlib.pyplot as plt\n",
        "from tqdm import tqdm\n",
        "\n"
      ],
      "metadata": {
        "id": "6_OvbpdX-pmp"
      },
      "execution_count": 73,
      "outputs": []
    },
    {
      "cell_type": "code",
      "source": [
        "class Generator(nn.Module):\n",
        "    \"\"\"\n",
        "    Generator that transforms attacked one_list to look like ideal one_list\n",
        "    \"\"\"\n",
        "    def __init__(self, input_dim=1, hidden_dim=64, output_dim=1):\n",
        "        super(Generator, self).__init__()\n",
        "        self.model = nn.Sequential(\n",
        "            nn.Linear(input_dim, hidden_dim),\n",
        "            nn.ReLU(),\n",
        "            nn.Linear(hidden_dim, hidden_dim),\n",
        "            nn.ReLU(),\n",
        "            nn.Linear(hidden_dim, output_dim),\n",
        "            nn.Tanh()  # Output between -1 and 1\n",
        "        )\n",
        "\n",
        "    def forward(self, x):\n",
        "        return self.model(x)\n"
      ],
      "metadata": {
        "id": "FFBiN346DyFg"
      },
      "execution_count": null,
      "outputs": []
    },
    {
      "cell_type": "code",
      "source": [
        "class Discriminator(nn.Module):\n",
        "    \"\"\"\n",
        "    Discriminator (Critic) that distinguishes between real ideal data and generated data\n",
        "    \"\"\"\n",
        "    def __init__(self, input_dim=1, hidden_dim=64):\n",
        "        super(Discriminator, self).__init__()\n",
        "        self.model = nn.Sequential(\n",
        "            nn.Linear(input_dim, hidden_dim),\n",
        "            nn.LeakyReLU(0.2),\n",
        "            nn.Linear(hidden_dim, hidden_dim),\n",
        "            nn.LeakyReLU(0.2),\n",
        "            nn.Linear(hidden_dim, 1)\n",
        "            # No sigmoid for WGAN (uses Wasserstein loss)\n",
        "        )\n",
        "\n",
        "    def forward(self, x):\n",
        "        return self.model(x)"
      ],
      "metadata": {
        "id": "Lh3d-0bQDy-9"
      },
      "execution_count": 75,
      "outputs": []
    },
    {
      "cell_type": "code",
      "source": [
        "class AttackDetector(nn.Module):\n",
        "    \"\"\"\n",
        "    Simple classifier to detect attacked vs non-attacked data\n",
        "    \"\"\"\n",
        "    def __init__(self, input_dim=1, hidden_dim=32):\n",
        "        super(AttackDetector, self).__init__()\n",
        "        self.model = nn.Sequential(\n",
        "            nn.Linear(input_dim, hidden_dim),\n",
        "            nn.ReLU(),\n",
        "            nn.Linear(hidden_dim, hidden_dim//2),\n",
        "            nn.ReLU(),\n",
        "            nn.Linear(hidden_dim//2, 1),\n",
        "            nn.Sigmoid()\n",
        "        )\n",
        "\n",
        "    def forward(self, x):\n",
        "        return self.model(x)"
      ],
      "metadata": {
        "id": "iBW4_FIaD05t"
      },
      "execution_count": 76,
      "outputs": []
    },
    {
      "cell_type": "code",
      "source": [
        "class WGAN:\n",
        "    def __init__(self, generator, discriminator, device='cpu'):\n",
        "        self.generator = generator.to(device)\n",
        "        self.discriminator = discriminator.to(device)\n",
        "        self.device = device\n",
        "\n",
        "        # WGAN optimizers (RMSprop is recommended)\n",
        "        self.g_optimizer = optim.RMSprop(self.generator.parameters(), lr=5e-5)\n",
        "        self.d_optimizer = optim.RMSprop(self.discriminator.parameters(), lr=5e-5)\n",
        "\n",
        "        # For weight clipping in WGAN\n",
        "        self.clip_value = 0.01\n",
        "\n",
        "    def train_step(self, attacked_data, ideal_data, n_critic=5):\n",
        "        batch_size = attacked_data.size(0)\n",
        "\n",
        "        # Train Discriminator (Critic)\n",
        "        d_losses = []\n",
        "        for _ in range(n_critic):\n",
        "            self.d_optimizer.zero_grad()\n",
        "\n",
        "            # Real data (ideal)\n",
        "            real_validity = self.discriminator(ideal_data)\n",
        "\n",
        "            # Fake data (generated from attacked)\n",
        "            fake_data = self.generator(attacked_data)\n",
        "            fake_validity = self.discriminator(fake_data.detach())\n",
        "\n",
        "            # WGAN loss\n",
        "            d_loss = -torch.mean(real_validity) + torch.mean(fake_validity)\n",
        "            d_loss.backward()\n",
        "            self.d_optimizer.step()\n",
        "\n",
        "            # Clip weights\n",
        "            for p in self.discriminator.parameters():\n",
        "                p.data.clamp_(-self.clip_value, self.clip_value)\n",
        "\n",
        "            d_losses.append(d_loss.item())\n",
        "\n",
        "        # Train Generator\n",
        "        self.g_optimizer.zero_grad()\n",
        "        fake_data = self.generator(attacked_data)\n",
        "        fake_validity = self.discriminator(fake_data)\n",
        "        g_loss = -torch.mean(fake_validity)\n",
        "        g_loss.backward()\n",
        "        self.g_optimizer.step()\n",
        "\n",
        "        return np.mean(d_losses), g_loss.item()"
      ],
      "metadata": {
        "id": "iENC9NOCD3Jf"
      },
      "execution_count": 78,
      "outputs": []
    },
    {
      "cell_type": "code",
      "source": [
        "def prepare_data(attacked_one_list, ideal_one_list, no_attack_one_list):\n",
        "    \"\"\"\n",
        "    Prepare data for training\n",
        "    \"\"\"\n",
        "    # Normalize data (optional but often helpful)\n",
        "    attacked_data = torch.FloatTensor(attacked_one_list).unsqueeze(1)\n",
        "    ideal_data = torch.FloatTensor(ideal_one_list).unsqueeze(1)\n",
        "    no_attack_data = torch.FloatTensor(no_attack_one_list).unsqueeze(1)\n",
        "\n",
        "    # For classification: 1 = attacked, 0 = not attacked\n",
        "    attack_labels = torch.ones(len(attacked_one_list))\n",
        "    no_attack_labels = torch.zeros(len(no_attack_one_list))\n",
        "\n",
        "    return attacked_data, ideal_data, no_attack_data, attack_labels, no_attack_labels"
      ],
      "metadata": {
        "id": "WHwHvlcGD6N7"
      },
      "execution_count": 79,
      "outputs": []
    },
    {
      "cell_type": "code",
      "source": [
        "def train_wgan(attacked_data, ideal_data, epochs=1000, batch_size=64, device='cpu'):\n",
        "    \"\"\"\n",
        "    Train WGAN model\n",
        "    \"\"\"\n",
        "    # Initialize models\n",
        "    generator = Generator()\n",
        "    discriminator = Discriminator()\n",
        "    wgan = WGAN(generator, discriminator, device)\n",
        "\n",
        "    # Create data loaders\n",
        "    min_len = min(len(attacked_data), len(ideal_data))\n",
        "    attacked_subset = attacked_data[:min_len]\n",
        "    ideal_subset = ideal_data[:min_len]\n",
        "\n",
        "    dataset = TensorDataset(attacked_subset, ideal_subset)\n",
        "    dataloader = DataLoader(dataset, batch_size=batch_size, shuffle=True)\n",
        "\n",
        "    # Training loop\n",
        "    d_losses, g_losses = [], []\n",
        "\n",
        "    for epoch in tqdm(range(epochs)):\n",
        "        epoch_d_losses, epoch_g_losses = [], []\n",
        "\n",
        "        for attacked_batch, ideal_batch in dataloader:\n",
        "            attacked_batch = attacked_batch.to(device)\n",
        "            ideal_batch = ideal_batch.to(device)\n",
        "\n",
        "            d_loss, g_loss = wgan.train_step(attacked_batch, ideal_batch)\n",
        "            epoch_d_losses.append(d_loss)\n",
        "            epoch_g_losses.append(g_loss)\n",
        "\n",
        "        d_losses.append(np.mean(epoch_d_losses))\n",
        "        g_losses.append(np.mean(epoch_g_losses))\n",
        "\n",
        "        if epoch % 100 == 0:\n",
        "            print(f\"Epoch {epoch}: D_loss = {d_losses[-1]:.4f}, G_loss = {g_losses[-1]:.4f}\")\n",
        "\n",
        "    return wgan, d_losses, g_losses"
      ],
      "metadata": {
        "id": "hZd4t3qyED2o"
      },
      "execution_count": 80,
      "outputs": []
    },
    {
      "cell_type": "code",
      "source": [
        "def train_attack_detector(attacked_data, no_attack_data, epochs=500, batch_size=64, device='cpu'):\n",
        "    \"\"\"\n",
        "    Train a simple classifier to detect attacks\n",
        "    \"\"\"\n",
        "    detector = AttackDetector().to(device)\n",
        "    criterion = nn.BCELoss()\n",
        "    optimizer = optim.Adam(detector.parameters(), lr=0.001)\n",
        "\n",
        "    # Prepare labels\n",
        "    attack_labels = torch.ones(len(attacked_data), 1)\n",
        "    no_attack_labels = torch.zeros(len(no_attack_data), 1)\n",
        "\n",
        "    # Combine data\n",
        "    all_data = torch.cat([attacked_data, no_attack_data])\n",
        "    all_labels = torch.cat([attack_labels, no_attack_labels])\n",
        "\n",
        "    # Create dataset\n",
        "    dataset = TensorDataset(all_data, all_labels)\n",
        "    dataloader = DataLoader(dataset, batch_size=batch_size, shuffle=True)\n",
        "\n",
        "    losses = []\n",
        "    for epoch in tqdm(range(epochs)):\n",
        "        epoch_losses = []\n",
        "        for data_batch, label_batch in dataloader:\n",
        "            data_batch = data_batch.to(device)\n",
        "            label_batch = label_batch.to(device)\n",
        "\n",
        "            optimizer.zero_grad()\n",
        "            outputs = detector(data_batch)\n",
        "            loss = criterion(outputs, label_batch)\n",
        "            loss.backward()\n",
        "            optimizer.step()\n",
        "\n",
        "            epoch_losses.append(loss.item())\n",
        "\n",
        "        losses.append(np.mean(epoch_losses))\n",
        "\n",
        "        if epoch % 100 == 0:\n",
        "            print(f\"Detector Epoch {epoch}: Loss = {losses[-1]:.4f}\")\n",
        "\n",
        "    return detector, losses"
      ],
      "metadata": {
        "id": "aschEFHZEIiy"
      },
      "execution_count": 81,
      "outputs": []
    },
    {
      "cell_type": "code",
      "source": [
        "def evaluate_models(wgan, detector, attacked_data, ideal_data, no_attack_data):\n",
        "    \"\"\"\n",
        "    Evaluate both WGAN and attack detector\n",
        "    \"\"\"\n",
        "    wgan.generator.eval()\n",
        "    wgan.discriminator.eval()\n",
        "    detector.eval()\n",
        "\n",
        "    with torch.no_grad():\n",
        "        # Generate transformed data\n",
        "        generated_data = wgan.generator(attacked_data)\n",
        "\n",
        "        # Test attack detection\n",
        "        attack_pred = detector(attacked_data)\n",
        "        no_attack_pred = detector(no_attack_data)\n",
        "\n",
        "        # Calculate accuracy\n",
        "        attack_acc = (attack_pred > 0.5).float().mean()\n",
        "        no_attack_acc = (no_attack_pred <= 0.5).float().mean()\n",
        "        overall_acc = (attack_acc + no_attack_acc) / 2\n",
        "\n",
        "        print(f\"Attack Detection Accuracy: {attack_acc:.3f}\")\n",
        "        print(f\"No-Attack Detection Accuracy: {no_attack_acc:.3f}\")\n",
        "        print(f\"Overall Accuracy: {overall_acc:.3f}\")\n",
        "\n",
        "        # Wasserstein distance approximation\n",
        "        real_scores = wgan.discriminator(ideal_data).mean()\n",
        "        fake_scores = wgan.discriminator(generated_data).mean()\n",
        "        wasserstein_dist = abs(real_scores - fake_scores)\n",
        "\n",
        "        print(f\"Approximate Wasserstein Distance: {wasserstein_dist:.4f}\")\n",
        "\n",
        "        return {\n",
        "            'generated_data': generated_data,\n",
        "            'attack_predictions': attack_pred,\n",
        "            'no_attack_predictions': no_attack_pred,\n",
        "            'wasserstein_distance': wasserstein_dist,\n",
        "            'overall_accuracy': overall_acc\n",
        "        }"
      ],
      "metadata": {
        "id": "pEnLN5WMELKD"
      },
      "execution_count": 82,
      "outputs": []
    },
    {
      "cell_type": "code",
      "source": [
        "def plot_results(attacked_data, ideal_data, generated_data, d_losses, g_losses):\n",
        "    \"\"\"\n",
        "    Plot training results and data distributions\n",
        "    \"\"\"\n",
        "    fig, axes = plt.subplots(2, 2, figsize=(12, 10))\n",
        "\n",
        "    # Plot original distributions\n",
        "    axes[0, 0].hist(attacked_data.numpy().flatten(), alpha=0.7, label='Attacked', bins=30)\n",
        "    axes[0, 0].hist(ideal_data.numpy().flatten(), alpha=0.7, label='Ideal', bins=30)\n",
        "    axes[0, 0].set_title('Original Distributions')\n",
        "    axes[0, 0].legend()\n",
        "\n",
        "    # Plot generated vs ideal\n",
        "    axes[0, 1].hist(generated_data.numpy().flatten(), alpha=0.7, label='Generated', bins=30)\n",
        "    axes[0, 1].hist(ideal_data.numpy().flatten(), alpha=0.7, label='Ideal', bins=30)\n",
        "    axes[0, 1].set_title('Generated vs Ideal')\n",
        "    axes[0, 1].legend()\n",
        "\n",
        "    # Plot WGAN losses\n",
        "    axes[1, 0].plot(d_losses, label='Discriminator Loss')\n",
        "    axes[1, 0].plot(g_losses, label='Generator Loss')\n",
        "    axes[1, 0].set_title('WGAN Training Losses')\n",
        "    axes[1, 0].legend()\n",
        "\n",
        "    # Plot scatter: original vs generated\n",
        "    axes[1, 1].scatter(attacked_data.numpy().flatten(), generated_data.numpy().flatten(), alpha=0.5)\n",
        "    axes[1, 1].plot([attacked_data.min(), attacked_data.max()],\n",
        "                   [attacked_data.min(), attacked_data.max()], 'r--', label='y=x')\n",
        "    axes[1, 1].set_xlabel('Attacked Data')\n",
        "    axes[1, 1].set_ylabel('Generated Data')\n",
        "    axes[1, 1].set_title('Attacked vs Generated')\n",
        "    axes[1, 1].legend()\n",
        "\n",
        "    plt.tight_layout()\n",
        "    plt.show()"
      ],
      "metadata": {
        "id": "VXcomJYUERnn"
      },
      "execution_count": 83,
      "outputs": []
    },
    {
      "cell_type": "code",
      "source": [
        "print(\"Preparing data...\")\n",
        "attacked_data, ideal_data, no_attack_data, attack_labels, no_attack_labels = prepare_data(\n",
        "    one_list, ideal_one_list, no_attack_one_list\n",
        ")\n"
      ],
      "metadata": {
        "colab": {
          "base_uri": "https://localhost:8080/"
        },
        "id": "w6Y8IOkIEUl1",
        "outputId": "c2387380-e57d-405d-a5ef-2f972b8cd57f"
      },
      "execution_count": 86,
      "outputs": [
        {
          "output_type": "stream",
          "name": "stdout",
          "text": [
            "Preparing data...\n"
          ]
        }
      ]
    },
    {
      "cell_type": "code",
      "source": [
        "print(f\"Data shapes:\")\n",
        "print(f\"  Attacked: {attacked_data.shape}\")\n",
        "print(f\"  Ideal: {ideal_data.shape}\")\n",
        "print(f\"  No Attack: {no_attack_data.shape}\")"
      ],
      "metadata": {
        "colab": {
          "base_uri": "https://localhost:8080/"
        },
        "id": "Q4pgwL5PEXGY",
        "outputId": "8ae7530d-6721-4e7a-db21-fb0f14a9579b"
      },
      "execution_count": 87,
      "outputs": [
        {
          "output_type": "stream",
          "name": "stdout",
          "text": [
            "Data shapes:\n",
            "  Attacked: torch.Size([70000, 1])\n",
            "  Ideal: torch.Size([70000, 1])\n",
            "  No Attack: torch.Size([70000, 1])\n"
          ]
        }
      ]
    },
    {
      "cell_type": "code",
      "source": [
        "device = torch.device('cuda' if torch.cuda.is_available() else 'cpu')\n",
        "print(f\"Using device: {device}\")"
      ],
      "metadata": {
        "colab": {
          "base_uri": "https://localhost:8080/"
        },
        "id": "bbbJoTNZEfE3",
        "outputId": "321cb536-931f-4eaf-bd37-de913cb09040"
      },
      "execution_count": 89,
      "outputs": [
        {
          "output_type": "stream",
          "name": "stdout",
          "text": [
            "Using device: cpu\n"
          ]
        }
      ]
    },
    {
      "cell_type": "code",
      "source": [
        "print(\"Training WGAN...\")\n",
        "wgan, d_losses, g_losses = train_wgan(attacked_data, ideal_data, epochs=500, device=device)"
      ],
      "metadata": {
        "colab": {
          "base_uri": "https://localhost:8080/"
        },
        "id": "CHr9IsRKEhIH",
        "outputId": "8d4df3af-a1f5-4f31-ac07-65f63f003f75"
      },
      "execution_count": null,
      "outputs": [
        {
          "output_type": "stream",
          "name": "stdout",
          "text": [
            "Training WGAN...\n"
          ]
        },
        {
          "output_type": "stream",
          "name": "stderr",
          "text": [
            "  0%|          | 1/500 [00:11<1:37:05, 11.67s/it]"
          ]
        },
        {
          "output_type": "stream",
          "name": "stdout",
          "text": [
            "Epoch 0: D_loss = -0.7260, G_loss = -0.0083\n"
          ]
        },
        {
          "output_type": "stream",
          "name": "stderr",
          "text": [
            "  1%|▏         | 7/500 [01:26<1:49:57, 13.38s/it]"
          ]
        }
      ]
    },
    {
      "cell_type": "code",
      "source": [
        "print(\"Training attack detector...\")\n",
        "detector, detector_losses = train_attack_detector(attacked_data, no_attack_data, epochs=300, device=device)"
      ],
      "metadata": {
        "id": "TSkyLFCHEl2I"
      },
      "execution_count": null,
      "outputs": []
    },
    {
      "cell_type": "code",
      "source": [
        "print(\"Evaluating models...\")\n",
        "results = evaluate_models(wgan, detector, attacked_data, ideal_data, no_attack_data)"
      ],
      "metadata": {
        "id": "L6Az4qF1EqmV"
      },
      "execution_count": null,
      "outputs": []
    },
    {
      "cell_type": "code",
      "source": [
        "print(\"Plotting results...\")\n",
        "plot_results(attacked_data, ideal_data, results['generated_data'], d_losses, g_losses)"
      ],
      "metadata": {
        "id": "M2G2ZsQvEwxH"
      },
      "execution_count": null,
      "outputs": []
    }
  ]
}